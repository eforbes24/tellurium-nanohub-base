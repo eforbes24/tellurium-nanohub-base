{
 "cells": [
  {
   "cell_type": "markdown",
   "metadata": {},
   "source": [
    "Here is the code for the dstfp notebook so you can use the functions on your own systems!"
   ]
  },
  {
   "cell_type": "code",
   "execution_count": null,
   "metadata": {},
   "outputs": [],
   "source": [
    "### Imports:\n",
    "\n",
    "import numpy as np\n",
    "import tellurium as te\n",
    "import matplotlib as mpl\n",
    "import matplotlib.pyplot as plt\n",
    "import scipy.optimize as opt\n",
    "import sympy\n",
    "from math import sqrt"
   ]
  },
  {
   "cell_type": "markdown",
   "metadata": {},
   "source": [
    "1-Dimension Bifurcation Diagram (in two parts):"
   ]
  },
  {
   "cell_type": "code",
   "execution_count": null,
   "metadata": {},
   "outputs": [],
   "source": [
    "def bifurcation_plot(f,r,x,tolerance,rlabel='r'):\n",
    "    \"\"\" produce a bifurcation diagram for a function f(r,x) given\n",
    "        f over a domain given by numpy arrays for parameter r and \n",
    "        state variable x\n",
    "        \n",
    "        f(r,x)  :  RHS function of autonomous ode dx/dt = f(r,x)\n",
    "        r       :  numpy array giving r coordinates of domain\n",
    "        x       :  numpy array giving x coordinates of domain\n",
    "        rlabel  :  string for x axis parameter label\n",
    "    \"\"\"\n",
    "\n",
    "    # set up a mesh grid and extract the 0 level set of f\n",
    "    R,X = np.meshgrid(r,x)\n",
    "    plt.figure()\n",
    "    CS = plt.contour(R,X,f(R,X),[0],colors='k')\n",
    "    plt.clf()\n",
    "\n",
    "    # Compute the derivative with Sympy\n",
    "    x1 = sympy.Symbol('x')\n",
    "    r1 = sympy.Symbol('r')\n",
    "    f_x = sympy.diff(f(r1,x1),x1)\n",
    "    f_x = sympy.lambdify((r1,x1),f_x)\n",
    "    \n",
    "    c0 = CS.collections[0]\n",
    "    # for each path in the contour extract vertices and mask by the sign of df/dx\n",
    "    for path in c0.get_paths():\n",
    "        vertices = path.vertices\n",
    "        vr = vertices[:,0]\n",
    "        vx = vertices[:,1]\n",
    "        mask = f_x(vr,vx)\n",
    "        stable = mask < 0.\n",
    "        unstable = mask > 0.\n",
    "        bif = abs(mask) < tolerance\n",
    "        \n",
    "        # plot the stable and unstable branches for each path\n",
    "\n",
    "        plt.plot(vr[stable],vx[stable],marker='h',color='b',markersize=1,linestyle='None')\n",
    "        plt.plot(vr[unstable],vx[unstable],marker='h',color='r',markersize=1,linestyle='None')\n",
    "        plt.plot(vr[bif],vx[bif],marker='h',color='black',markersize=8,linestyle='None')\n",
    "        \n",
    "    \n",
    "    plt.xlabel('parameter {0}'.format(rlabel))\n",
    "    plt.ylabel('state variable x')\n",
    "    plt.legend(('stable','unstable','bifurcation'),loc='best')\n",
    "    plt.xlim(r[0],r[-1])\n",
    "    plt.ylim(x[0],x[-1])\n",
    "    plt.show()"
   ]
  },
  {
   "cell_type": "code",
   "execution_count": null,
   "metadata": {},
   "outputs": [],
   "source": [
    "## First, define your function!\n",
    "f = lambda h,x: -x**3 + 5*x + h\n",
    "## Next, define the range of the parameter h and the range of state variable x\n",
    "## note that the third value of the linspace functions is the number of points in the mesh, so values that are too\n",
    "## low may miss bifurcation points. Conversely, values that are too high will take a long time to compute.\n",
    "h = np.linspace(-7,7,10000)\n",
    "x = np.linspace(-5,5,10000)\n",
    "## Set your tolerance here. Tolerance can be adjusted in correspondence with the resolution of the plot below to ensure\n",
    "### you are getting the correct approximations of the bifurcation points. \n",
    "tolerance = 0.01\n",
    "## Finally, call the function to plot the bifurcation diagram\n",
    "bifurcation_plot(f,h,x,tolerance,rlabel='c')"
   ]
  },
  {
   "cell_type": "markdown",
   "metadata": {},
   "source": [
    "Flow in 2-Dimensions:"
   ]
  },
  {
   "cell_type": "code",
   "execution_count": null,
   "metadata": {},
   "outputs": [],
   "source": [
    "x = np.linspace(-4,4,3000)\n",
    "y = np.linspace(-4,4,3000)\n",
    "X,Y = np.meshgrid(x, y)\n",
    "\n",
    "U = X**3+Y**2-0.25\n",
    "V = -Y**3+X\n",
    "F1 = ((U)<0.0000000000001) & ((U)>-0.0000000000001).any()\n",
    "F2 = ((V)<0.0000000000001) & ((V)>-0.0000000000001).any()\n",
    "fig, ax = plt.subplots()\n",
    "ax.set_aspect('equal', 'box')\n",
    "ax.streamplot(X, Y, U, V, color='gray')\n",
    "plt.xlabel(\"X\")\n",
    "plt.ylabel(\"Y\")\n",
    "plt.show()"
   ]
  },
  {
   "cell_type": "markdown",
   "metadata": {},
   "source": [
    "Define ODEs:"
   ]
  },
  {
   "cell_type": "code",
   "execution_count": null,
   "metadata": {},
   "outputs": [],
   "source": [
    "# DEFINE YOUR ODEs HERE:\n",
    "\n",
    "## ODE for State Variable 1\n",
    "def S1_ODE(X,Y):\n",
    "    S1_M = X**3+Y**2-0.25\n",
    "    return(S1_M)\n",
    "\n",
    "## ODE for State Variable 2\n",
    "def S2_ODE(X,Y):\n",
    "    S2_M = -Y**3+X\n",
    "    return(S2_M)"
   ]
  },
  {
   "cell_type": "markdown",
   "metadata": {},
   "source": [
    "Nullclines in 2-dimensions:"
   ]
  },
  {
   "cell_type": "code",
   "execution_count": null,
   "metadata": {},
   "outputs": [],
   "source": [
    "# CODE FOR NULLCLINE AND FLOW\n",
    "\n",
    "## To use this function, the user needs to define both of their ODEs as a function of X and Y, with the names S1_ODE and S2_ODE,\n",
    "## respectively. These ODEs then get used to generate a flow and nullclines in a specified range. Two important inputs are the \n",
    "## resolution and the tolerance, which need to be quite large and small respectively in order to get smooth lines and a \n",
    "## reliable plot. \n",
    "\n",
    "# FUNCTION FOR NULLCLINES AND FLOW\n",
    "def gen_null_flow(min_S1, max_S1, min_S2, max_S2, resolution, tolerance):\n",
    "\n",
    "    x = np.linspace(min_S1, max_S1, resolution)\n",
    "    y = np.linspace(min_S2, max_S2, resolution)\n",
    "    X,Y = np.meshgrid(x, y)\n",
    "\n",
    "    U = S1_ODE(X,Y)\n",
    "    V = S2_ODE(X,Y)\n",
    "\n",
    "\n",
    "    F1 = ((S1_ODE(X,Y)<tolerance) & (S1_ODE(X,Y)>-tolerance))\n",
    "    F2 = ((S2_ODE(X,Y)<tolerance) & (S2_ODE(X,Y)>-tolerance))\n",
    "\n",
    "\n",
    "    fig, ax = plt.subplots()\n",
    "    ax.streamplot(X, Y, U, V, color='gray')\n",
    "    ax.contour(X,Y,F1, colors='orange')\n",
    "    ax.contour(X,Y,F2, colors='purple')\n",
    "    ax.set_aspect('equal', 'box')\n",
    "    fig.suptitle('Flow and Nullclines',fontweight=\"bold\")\n",
    "    plt.xlabel(\"X\")\n",
    "    plt.ylabel(\"Y\")\n",
    "    plt.show()\n",
    "\n",
    "gen_null_flow(-2, 2, -2, 2, 4000, 0.001)"
   ]
  },
  {
   "cell_type": "markdown",
   "metadata": {},
   "source": [
    "Fixed Points in 2-Dimensions:"
   ]
  },
  {
   "cell_type": "code",
   "execution_count": null,
   "metadata": {},
   "outputs": [],
   "source": [
    "#####################################################################################\n",
    "\n",
    "# CODE FOR FIXED POINTS\n",
    "\n",
    "# WORKFLOW:\n",
    "# 1. Take in a matrix of proposed fixed points.\n",
    "# 2. For each proposed fixed point, numerically solve for the root.\n",
    "# 3. Return the numerical solutions as a corresponding matrix.\n",
    "# 4. For any numerical solutions beneath a certain threshold, set them to zero.\n",
    "\n",
    "def equil(state):\n",
    "    return [S1_ODE(state[0],state[1]), S2_ODE(state[0],state[1])]\n",
    "\n",
    "# Here, you need to provide the numerical solver with some guesses. These guesses could have been found qualitatively\n",
    "# (by looking at the nullclines). Any guesses that converge on the same solution will just return that solution.  \n",
    "guesses = np.array([[0, 0.5], [0, -0.5], [-1, -1]])\n",
    "\n",
    "def find_eqs(guesses):\n",
    "    sols = np.zeros((len(guesses),2))\n",
    "    for i in range(len(guesses)):\n",
    "        sols[i] = opt.fsolve(equil, guesses[i])\n",
    "    sols[abs(sols) < 0.000001] = 0\n",
    "    return sols\n",
    "\n",
    "roots = find_eqs(guesses)\n",
    "\n",
    "print(roots)"
   ]
  },
  {
   "cell_type": "markdown",
   "metadata": {},
   "source": [
    "Jacobian Matrix in 2-Dimensions:"
   ]
  },
  {
   "cell_type": "code",
   "execution_count": null,
   "metadata": {},
   "outputs": [],
   "source": [
    "f1 = lambda x,y: x**3 + y**2 - 0.25\n",
    "f2 = lambda x,y: -y**3 + x\n",
    "F = [f1,f2]\n",
    "\n",
    "def Jacobian(system):\n",
    "    x,y = sympy.symbols('x y')\n",
    "    f1 = system[0]\n",
    "    f2 = system[1]\n",
    "    J = sympy.Matrix([[sympy.diff(f1(x,y),x),sympy.diff(f1(x,y),y)],[sympy.diff(f2(x,y),x),sympy.diff(f2(x,y),y)]])\n",
    "    return(J)\n",
    "\n",
    "J = Jacobian(F)"
   ]
  },
  {
   "cell_type": "markdown",
   "metadata": {},
   "source": [
    "Stability in 2-Dimensions:"
   ]
  },
  {
   "cell_type": "code",
   "execution_count": null,
   "metadata": {},
   "outputs": [],
   "source": [
    "f1 = lambda x,y: x**3 + y**2 - 0.25\n",
    "f2 = lambda x,y: -y**3 + x\n",
    "F = [f1,f2]\n",
    "\n",
    "def find_eqs(guesses):\n",
    "    sols = np.zeros((len(guesses),2))\n",
    "    for i in range(len(guesses)):\n",
    "        sols[i] = opt.fsolve(equil, guesses[i])\n",
    "    sols[abs(sols) < 0.000001] = 0\n",
    "    return sols\n",
    "\n",
    "def equil(state):\n",
    "    return [S1_ODE(state[0],state[1]), S2_ODE(state[0],state[1])]\n",
    "\n",
    "def EP_Stability(J, guesses):\n",
    "    roots = find_eqs(guesses)\n",
    "    eigenvalues = list(J.eigenvals())\n",
    "    stabilities = list()\n",
    "    for p in roots:\n",
    "        x = p[0]\n",
    "        y = p[1]\n",
    "        output = list()\n",
    "        for e in eigenvalues:\n",
    "            sub = sympy.re(e.subs({'x':x,'y':y}))\n",
    "            output.append(sub)\n",
    "        if all(i > 0 for i in output):\n",
    "            print(\"The equilibrium point {} is unstable.\".format(p))\n",
    "            stabilities.append(0)\n",
    "        elif all(i < 0 for i in output):\n",
    "            print(\"The equilibrium point {} is stable.\".format(p))\n",
    "            stabilities.append(1)\n",
    "        else:\n",
    "            print(\"The equilibrium point {} is a saddle.\".format(p))\n",
    "            stabilities.append(2)\n",
    "    return stabilities\n",
    "\n",
    "guesses = np.array([[0, 0.5], [0, -0.5], [-1, -1]])\n",
    "EP_Stability(Jacobian(F), guesses)"
   ]
  },
  {
   "cell_type": "markdown",
   "metadata": {},
   "source": [
    "Phase Portrait in 2-Dimensions:"
   ]
  },
  {
   "cell_type": "code",
   "execution_count": null,
   "metadata": {},
   "outputs": [],
   "source": [
    "#####################################################################################\n",
    "\n",
    "# CODE FOR PHASE PORTRAIT (NO STABILITY)\n",
    "\n",
    "# WORKFLOW:\n",
    "# 1. Take in a matrix of confirmed fixed points.\n",
    "# 2. Plot the Nullclines and Flow with the fixed points.\n",
    "\n",
    "# (THIS IS PROOF OF CONCEPT. WE CAN MAKE THIS BETTER AND BREAK UP THE FUNCTIONS DIFFERENTLY.)\n",
    "\n",
    "def gen_phase(min_S1, max_S1, min_S2, max_S2, resolution, tolerance, roots):\n",
    "\n",
    "    x = np.linspace(min_S1, max_S1, resolution)\n",
    "    y = np.linspace(min_S2, max_S2, resolution)\n",
    "    X,Y = np.meshgrid(x, y)\n",
    "\n",
    "    U = S1_ODE(X,Y)\n",
    "    V = S2_ODE(X,Y)\n",
    "\n",
    "    F1 = ((S1_ODE(X,Y)<tolerance) & (S1_ODE(X,Y)>-tolerance))\n",
    "    F2 = ((S2_ODE(X,Y)<tolerance) & (S2_ODE(X,Y)>-tolerance))\n",
    "\n",
    "    fig, ax = plt.subplots()\n",
    "    ax.streamplot(X, Y, U, V, color='gray')\n",
    "    ax.contour(X,Y,F1, colors='orange')\n",
    "    ax.contour(X,Y,F2, colors='purple')\n",
    "    ax.set_aspect('equal', 'box')\n",
    "    for i in range(len(roots)):\n",
    "        stab = EP_Stability(Jacobian(F), [roots[i]])\n",
    "        if stab[0] == 0:\n",
    "            ax.plot(roots[i][0], roots[i][1], 'ro')\n",
    "        elif stab[0] == 1:\n",
    "            ax.plot(roots[i][0], roots[i][1], 'bo')\n",
    "        elif stab[0] == 2:\n",
    "            ax.plot(roots[i][0], roots[i][1], 'go')\n",
    "        else:\n",
    "            ax.plot(roots[i][0], roots[i][1], 'black')\n",
    "    fig.suptitle('Flow and Nullclines',fontweight=\"bold\")\n",
    "    plt.xlabel(\"X\")\n",
    "    plt.ylabel(\"Y\")\n",
    "    plt.show()\n",
    "\n",
    "guesses = np.array([[0, 0.5], [0, -0.5], [-1, -1]])\n",
    "roots = find_eqs(guesses)\n",
    "gen_phase(-2, 2, -2, 2, 4000, 0.001, roots)"
   ]
  }
 ],
 "metadata": {
  "kernelspec": {
   "display_name": "Python 3.9.13 ('base')",
   "language": "python",
   "name": "python3"
  },
  "language_info": {
   "name": "python",
   "version": "3.9.13"
  },
  "orig_nbformat": 4,
  "vscode": {
   "interpreter": {
    "hash": "40d3a090f54c6569ab1632332b64b2c03c39dcf918b08424e98f38b5ae0af88f"
   }
  }
 },
 "nbformat": 4,
 "nbformat_minor": 2
}
