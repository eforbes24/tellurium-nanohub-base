{
  "nbformat": 4,
  "nbformat_minor": 0,
  "metadata": {
    "colab": {
      "provenance": []
    },
    "kernelspec": {
      "name": "python3",
      "display_name": "Python 3"
    },
    "language_info": {
      "name": "python"
    }
  },
  "cells": [
    {
      "cell_type": "markdown",
      "source": [
        "# Stable Organizations in Cognitive Science and Theoretical Biology\n",
        "\n",
        "##### Connor McShaffrey & Eden Forbes"
      ],
      "metadata": {
        "id": "ca5JGNibi7UF"
      }
    },
    {
      "cell_type": "code",
      "source": [
        "%pip install tellurium"
      ],
      "metadata": {
        "colab": {
          "base_uri": "https://localhost:8080/"
        },
        "id": "bG6rhfY65-TA",
        "outputId": "b2d26f81-da1a-495c-fdb4-ff122522f725"
      },
      "execution_count": null,
      "outputs": [
        {
          "output_type": "stream",
          "name": "stdout",
          "text": [
            "Looking in indexes: https://pypi.org/simple, https://us-python.pkg.dev/colab-wheels/public/simple/\n",
            "Collecting tellurium\n",
            "  Downloading tellurium-2.2.4.1-py3-none-any.whl (121 kB)\n",
            "\u001b[K     |████████████████████████████████| 121 kB 7.7 MB/s \n",
            "\u001b[?25hCollecting python-libnuml>=1.0.0\n",
            "  Downloading python_libnuml-1.1.6-cp37-cp37m-manylinux_2_17_x86_64.manylinux2014_x86_64.whl (2.1 MB)\n",
            "\u001b[K     |████████████████████████████████| 2.1 MB 17.0 MB/s \n",
            "\u001b[?25hRequirement already satisfied: requests in /usr/local/lib/python3.7/dist-packages (from tellurium) (2.23.0)\n",
            "Collecting rrplugins>=2.0.3\n",
            "  Downloading rrplugins-2.0.4-py3-none-manylinux2010_x86_64.whl (36.7 MB)\n",
            "\u001b[K     |████████████████████████████████| 36.7 MB 52.6 MB/s \n",
            "\u001b[?25hCollecting tellurium\n",
            "  Downloading tellurium-2.2.4-py3-none-any.whl (121 kB)\n",
            "\u001b[K     |████████████████████████████████| 121 kB 62.2 MB/s \n",
            "\u001b[?25h  Downloading tellurium-2.2.3.1-py3-none-any.whl (121 kB)\n",
            "\u001b[K     |████████████████████████████████| 121 kB 41.9 MB/s \n",
            "\u001b[?25h  Downloading tellurium-2.2.3-py3-none-any.whl (121 kB)\n",
            "\u001b[K     |████████████████████████████████| 121 kB 28.9 MB/s \n",
            "\u001b[?25hRequirement already satisfied: numpy>=1.20.2 in /usr/local/lib/python3.7/dist-packages (from tellurium) (1.21.6)\n",
            "Requirement already satisfied: appdirs>=1.4.3 in /usr/local/lib/python3.7/dist-packages (from tellurium) (1.4.4)\n",
            "Collecting python-libsedml>=2.0.17\n",
            "  Downloading python_libsedml-2.0.32-cp37-cp37m-manylinux_2_17_x86_64.manylinux2014_x86_64.whl (3.3 MB)\n",
            "\u001b[K     |████████████████████████████████| 3.3 MB 32.3 MB/s \n",
            "\u001b[?25hRequirement already satisfied: pytest in /usr/local/lib/python3.7/dist-packages (from tellurium) (3.6.4)\n",
            "Requirement already satisfied: jupyter-core>=4.3.0 in /usr/local/lib/python3.7/dist-packages (from tellurium) (4.11.2)\n",
            "Requirement already satisfied: ipykernel>=4.6.1 in /usr/local/lib/python3.7/dist-packages (from tellurium) (5.3.4)\n",
            "Requirement already satisfied: jinja2>=2.9.6 in /usr/local/lib/python3.7/dist-packages (from tellurium) (2.11.3)\n",
            "Requirement already satisfied: matplotlib>=2.0.2 in /usr/local/lib/python3.7/dist-packages (from tellurium) (3.2.2)\n",
            "Requirement already satisfied: scipy>=1.5.1 in /usr/local/lib/python3.7/dist-packages (from tellurium) (1.7.3)\n",
            "Collecting python-libcombine>=0.2.2\n",
            "  Downloading python_libcombine-0.2.19-cp37-cp37m-manylinux_2_17_x86_64.manylinux2014_x86_64.whl (2.6 MB)\n",
            "\u001b[K     |████████████████████████████████| 2.6 MB 54.8 MB/s \n",
            "\u001b[?25hRequirement already satisfied: pandas>=0.20.2 in /usr/local/lib/python3.7/dist-packages (from tellurium) (1.3.5)\n",
            "Collecting antimony>=2.12.0\n",
            "  Downloading antimony-2.13.2-py3-none-manylinux2014_x86_64.whl (4.3 MB)\n",
            "\u001b[K     |████████████████████████████████| 4.3 MB 39.9 MB/s \n",
            "\u001b[?25hCollecting phrasedml>=1.0.9\n",
            "  Downloading phrasedml-1.1.1-cp37-cp37m-manylinux2010_x86_64.whl (5.6 MB)\n",
            "\u001b[K     |████████████████████████████████| 5.6 MB 22.5 MB/s \n",
            "\u001b[?25hRequirement already satisfied: ipython in /usr/local/lib/python3.7/dist-packages (from tellurium) (7.9.0)\n",
            "Collecting libroadrunner>=2.0.3\n",
            "  Downloading libroadrunner-2.2.1-cp37-cp37m-manylinux2014_x86_64.whl (54.8 MB)\n",
            "\u001b[K     |████████████████████████████████| 54.8 MB 172 kB/s \n",
            "\u001b[?25hCollecting python-libsbml>=5.18.0\n",
            "  Downloading python_libsbml-5.19.7-cp37-cp37m-manylinux_2_17_x86_64.manylinux2014_x86_64.whl (6.8 MB)\n",
            "\u001b[K     |████████████████████████████████| 6.8 MB 38.6 MB/s \n",
            "\u001b[?25hRequirement already satisfied: plotly>=2.0.12 in /usr/local/lib/python3.7/dist-packages (from tellurium) (5.5.0)\n",
            "Requirement already satisfied: jupyter-client>=5.1.0 in /usr/local/lib/python3.7/dist-packages (from tellurium) (6.1.12)\n",
            "Collecting sbml2matlab>=0.9.1\n",
            "  Downloading sbml2matlab-1.2.3-cp37-cp37m-manylinux1_x86_64.whl (3.2 MB)\n",
            "\u001b[K     |████████████████████████████████| 3.2 MB 43.7 MB/s \n",
            "\u001b[?25hRequirement already satisfied: traitlets>=4.1.0 in /usr/local/lib/python3.7/dist-packages (from ipykernel>=4.6.1->tellurium) (5.1.1)\n",
            "Requirement already satisfied: tornado>=4.2 in /usr/local/lib/python3.7/dist-packages (from ipykernel>=4.6.1->tellurium) (5.1.1)\n",
            "Collecting jedi>=0.10\n",
            "  Downloading jedi-0.18.1-py2.py3-none-any.whl (1.6 MB)\n",
            "\u001b[K     |████████████████████████████████| 1.6 MB 36.5 MB/s \n",
            "\u001b[?25hRequirement already satisfied: prompt-toolkit<2.1.0,>=2.0.0 in /usr/local/lib/python3.7/dist-packages (from ipython->tellurium) (2.0.10)\n",
            "Requirement already satisfied: setuptools>=18.5 in /usr/local/lib/python3.7/dist-packages (from ipython->tellurium) (57.4.0)\n",
            "Requirement already satisfied: pickleshare in /usr/local/lib/python3.7/dist-packages (from ipython->tellurium) (0.7.5)\n",
            "Requirement already satisfied: pygments in /usr/local/lib/python3.7/dist-packages (from ipython->tellurium) (2.6.1)\n",
            "Requirement already satisfied: backcall in /usr/local/lib/python3.7/dist-packages (from ipython->tellurium) (0.2.0)\n",
            "Requirement already satisfied: pexpect in /usr/local/lib/python3.7/dist-packages (from ipython->tellurium) (4.8.0)\n",
            "Requirement already satisfied: decorator in /usr/local/lib/python3.7/dist-packages (from ipython->tellurium) (4.4.2)\n",
            "Requirement already satisfied: parso<0.9.0,>=0.8.0 in /usr/local/lib/python3.7/dist-packages (from jedi>=0.10->ipython->tellurium) (0.8.3)\n",
            "Requirement already satisfied: MarkupSafe>=0.23 in /usr/local/lib/python3.7/dist-packages (from jinja2>=2.9.6->tellurium) (2.0.1)\n",
            "Requirement already satisfied: python-dateutil>=2.1 in /usr/local/lib/python3.7/dist-packages (from jupyter-client>=5.1.0->tellurium) (2.8.2)\n",
            "Requirement already satisfied: pyzmq>=13 in /usr/local/lib/python3.7/dist-packages (from jupyter-client>=5.1.0->tellurium) (23.2.1)\n",
            "Requirement already satisfied: kiwisolver>=1.0.1 in /usr/local/lib/python3.7/dist-packages (from matplotlib>=2.0.2->tellurium) (1.4.4)\n",
            "Requirement already satisfied: pyparsing!=2.0.4,!=2.1.2,!=2.1.6,>=2.0.1 in /usr/local/lib/python3.7/dist-packages (from matplotlib>=2.0.2->tellurium) (3.0.9)\n",
            "Requirement already satisfied: cycler>=0.10 in /usr/local/lib/python3.7/dist-packages (from matplotlib>=2.0.2->tellurium) (0.11.0)\n",
            "Requirement already satisfied: typing-extensions in /usr/local/lib/python3.7/dist-packages (from kiwisolver>=1.0.1->matplotlib>=2.0.2->tellurium) (4.1.1)\n",
            "Requirement already satisfied: pytz>=2017.3 in /usr/local/lib/python3.7/dist-packages (from pandas>=0.20.2->tellurium) (2022.5)\n",
            "Requirement already satisfied: six in /usr/local/lib/python3.7/dist-packages (from plotly>=2.0.12->tellurium) (1.15.0)\n",
            "Requirement already satisfied: tenacity>=6.2.0 in /usr/local/lib/python3.7/dist-packages (from plotly>=2.0.12->tellurium) (8.1.0)\n",
            "Requirement already satisfied: wcwidth in /usr/local/lib/python3.7/dist-packages (from prompt-toolkit<2.1.0,>=2.0.0->ipython->tellurium) (0.2.5)\n",
            "Requirement already satisfied: ptyprocess>=0.5 in /usr/local/lib/python3.7/dist-packages (from pexpect->ipython->tellurium) (0.7.0)\n",
            "Requirement already satisfied: attrs>=17.4.0 in /usr/local/lib/python3.7/dist-packages (from pytest->tellurium) (22.1.0)\n",
            "Requirement already satisfied: more-itertools>=4.0.0 in /usr/local/lib/python3.7/dist-packages (from pytest->tellurium) (9.0.0)\n",
            "Requirement already satisfied: atomicwrites>=1.0 in /usr/local/lib/python3.7/dist-packages (from pytest->tellurium) (1.4.1)\n",
            "Requirement already satisfied: pluggy<0.8,>=0.5 in /usr/local/lib/python3.7/dist-packages (from pytest->tellurium) (0.7.1)\n",
            "Requirement already satisfied: py>=1.5.0 in /usr/local/lib/python3.7/dist-packages (from pytest->tellurium) (1.11.0)\n",
            "Requirement already satisfied: idna<3,>=2.5 in /usr/local/lib/python3.7/dist-packages (from requests->tellurium) (2.10)\n",
            "Requirement already satisfied: chardet<4,>=3.0.2 in /usr/local/lib/python3.7/dist-packages (from requests->tellurium) (3.0.4)\n",
            "Requirement already satisfied: certifi>=2017.4.17 in /usr/local/lib/python3.7/dist-packages (from requests->tellurium) (2022.9.24)\n",
            "Requirement already satisfied: urllib3!=1.25.0,!=1.25.1,<1.26,>=1.21.1 in /usr/local/lib/python3.7/dist-packages (from requests->tellurium) (1.24.3)\n",
            "Installing collected packages: jedi, sbml2matlab, rrplugins, python-libsedml, python-libsbml, python-libnuml, python-libcombine, phrasedml, libroadrunner, antimony, tellurium\n",
            "Successfully installed antimony-2.13.2 jedi-0.18.1 libroadrunner-2.2.1 phrasedml-1.1.1 python-libcombine-0.2.19 python-libnuml-1.1.6 python-libsbml-5.19.7 python-libsedml-2.0.32 rrplugins-2.0.4 sbml2matlab-1.2.3 tellurium-2.2.3\n"
          ]
        }
      ]
    },
    {
      "cell_type": "code",
      "source": [
        "import numpy as np\n",
        "import tellurium as te\n",
        "import matplotlib.pyplot as plt"
      ],
      "metadata": {
        "id": "CyxoBxiW5x0b"
      },
      "execution_count": null,
      "outputs": []
    },
    {
      "cell_type": "markdown",
      "source": [
        "## Context for the Notebook\n",
        "\n",
        "Understanding how organisms adapt and survive in a complex and demanding environment is a central goal in both organismal biology and cognitive science. Generally, the way this is handled is by taking the physical self-maintenance of the agent for granted and focusing on behavior (Beer, XXXX), or going beneath the level of the organism to focus on particular mechanisms (XXXX).\n",
        "Both of these strategies are necessary, but necessarily incomplete on their own as they do not confront the system-level properties that describe organisms as a collection of physical processes that continue to renew the very constituents that enable those same processes (Maturana & Varela, XXXX; Beer, XXXX). Ultimately, the physical limits of an organism, and the dynamics of its behavior, are deeply tied to the time evolution of the processes that underlie its overall organization. A number of theoretical paradigms have been proposed to do this, including but not limited to autopoiesis (Maturana & Varela, XXXX; Beer, XXXX), metabolism-repair systems (Rosen, XXXX; Louie, XXXX), autocatalytic sets (Kauffman, XXXX), and chemoton theory (Ganti, XXXX). Many of these frameworks have made remarkable progress, but none fully encompass the others, and all are incomplete.\n",
        "\n",
        "\n",
        "While there are various lines of research that attempt to develop frameworks such as those above within the confines of concrete chemical systems, another complimentary research direction is proposed by the subfields *Artificial Life* (ALife) and *Artificial Chemistry* (AChem):\n",
        "\n",
        "\n",
        "\n",
        "*   **ALife:** A research program dedicated to understanding autonomous systems and their viability by attempting to abstract fundamental dynamical principles in biology and replicating them on other media, such as computers (Langton et al, 1991; Bourgine & Varela, XXXX).\n",
        "*   **AChem:** An artificial chemistry is a man-made system that has similarities to a real chemical system and has a set of all possible molecules *S*, a set of reaction rules *R* that are the transformations allowed between members of *S*, and an algorithm *A* that determines how transformations are handled (deterministic, stochastic, aspatial vs spatial, etc.) (Dittrich, 2001).\n",
        "\n",
        "Drawing on this history, the following notebook will use artificial chemistries and mass-action kinetics to offer an introduction to the foundations of Chemical Organisation Theory (Dittrich et al, 2007), a static analysis that attempts to understand collectively self-maintaining processes, dynamical systems theory, and their intersection. General knowledge that is assumed includes what a derivative is and the general formalism for mass-action kinetics. The outline of the notebook will be:\n",
        "\n",
        "\n",
        "\n",
        "1.   An Quick and Dirty Introduction to Equilibria & Numerical Methods in Dynamical Systems (1-2D)\n",
        "2.   Chemical Organisation Theory and its Relation to Equilibria\n",
        "3.   ~ Algorithms for Finding Chemical Organisations\n",
        "4.   ~ Finding Chemical Organisations in Arbitrary Artificial Chemistries\n",
        "\n",
        "Let's begin!"
      ],
      "metadata": {
        "id": "HK9k6RKrjb2x"
      }
    },
    {
      "cell_type": "markdown",
      "source": [
        "## Section 1: What is a Dynamical System???\n",
        "\n",
        "In general, a dynamical system is best defined as any system that changes in time. These systems can be deterministic, stochastic, spatial, aspatial, discrete, or continuous. Since we are relying on mass-action kinetics, this introduction will be focused on deterministic, continuous systems. \n",
        "\n",
        "In general, it is sometimes possible to solve a system of ordinary differential equations (ODEs) analytically in closed form (pen and paper work fine), but this is often not the case for sufficiently nonlinear systems, and most phenomena in nature fall into this difficult category! Not only that, but even within the cases where it is possible to solve nonnumerically, sometimes things can get unwieldy very quickly. For that reason, this quick-and-dirty introduction will emphasize how to begin dealing with dynamical systems numerically. \n"
      ],
      "metadata": {
        "id": "t6JT--p13bMR"
      }
    },
    {
      "cell_type": "markdown",
      "source": [
        "#### Systems of Ordinary Differential Equations (ODEs)\n"
      ],
      "metadata": {
        "id": "2OGW3xWUB4Ru"
      }
    },
    {
      "cell_type": "markdown",
      "source": [
        "In order to understand a system of ODEs, it is important to first understand the structure of an ODE in general. An ODE describes the time-evolution of a ***state-variable*** (purple) a moving part in the dynamical system. The parts of the equation that remain fixed are called ***parameters*** (orange). Sometimes the initial state of the system is also called a parameter, although this terminology is less universal. An ODE's right hand side, the function that governs it, can take any number of parameters and can also take each state-variable of the system as an input, or no state at all. \n",
        "\n",
        "\\begin{align*}\n",
        "\\color{purple}{\\frac{dS}{dt}} &= \\color{purple}{S}\\color{orange}{(0.3)}\\\\\n",
        "\\end{align*}\n",
        "\n",
        "A dynamical system is comprised of a system of one or more ODEs with no upper bound. Each state-variable of the system has its own governing ODE, and the number of ODEs there are is used to define the *dimensionality* of the system.For example, consider the following set of equations with the same color scheme as above:\n",
        "\n",
        "\\begin{align*}\n",
        "\\color{purple}{\\frac{dS_1}{dt}} &= \\color{purple}{S_1}\\color{orange}{(P_1)}\\\\\n",
        "\\end{align*}\n",
        "\n",
        "\\begin{align*}\n",
        "\\color{purple}{\\frac{dS_2}{dt}} &= \\color{purple}{S_2}\\color{orange}{(P_2)}- \\color{purple}{S_1}\\color{orange}{(P_3)}\\\\\n",
        "\\end{align*}\n",
        "\n",
        "Here we have a two-dimensional dynamical system with three parameters. The state of the system is a represented by the states of all of its state-variables. In principle, there is no upper bound on the dimensionality of systems we can model. For example, imagine that we wanted to make a model of the human brain at the level of individual cells. Just accounting for neurons (note that other cells, such as glia, also play important roles) this gives a lower bound for a ~100-billion-dimensional dynamical system! There is also the question of how biophysically realistic we want the neurons to be. If we are hoping to use neural components that have spiking behavior, this often assumes that each neuron on its own is governed by at least two ODEs. Note that, as modelers, our job is not to reproduce the exact thing we are trying to understand, but to capture some essence of it that offers new insights."
      ],
      "metadata": {
        "id": "8SvNDdL3afwb"
      }
    },
    {
      "cell_type": "markdown",
      "source": [
        "##### Intuition Check! For the following systems, how many dimensions would my ODE model be?\n",
        "\n",
        "**NOTE: NEED TO MAKE THESE EXERCISES INTERACTIVE**"
      ],
      "metadata": {
        "id": "UNSjlA1yL-zN"
      }
    },
    {
      "cell_type": "markdown",
      "source": [
        "1. I want to understand how the human population grows and shrinks over time. For simplicity, I only consider rates of birth and death.\n",
        "\n",
        "**Three Options: 1, 2, 3+**\n",
        "\n",
        "Correct Answer: 1D! "
      ],
      "metadata": {
        "id": "krOnGQGxMQZ4"
      }
    },
    {
      "cell_type": "markdown",
      "source": [
        "2. I want to model how the populations of deer and wolves interact over time.\n",
        "\n",
        "Correct Answer: 2D!"
      ],
      "metadata": {
        "id": "hZss2MEqWx1r"
      }
    },
    {
      "cell_type": "markdown",
      "source": [
        "To kick things off, let's lay down a couple of ground rules for systems of ODEs:\n",
        "1. **Existence and Uniqueness Theorem:** Although we will not define it here, trajectories of a dynamical system in principle cannot cross. \n",
        "2. **Smoothness of the Solutions**: Solution trajectories for the system should be smooth (no jagged edges)."
      ],
      "metadata": {
        "id": "mVM9TMqwB1cD"
      }
    },
    {
      "cell_type": "markdown",
      "source": [
        "- **Intuition Check!** Below we sketch out a series of trajectories. "
      ],
      "metadata": {
        "id": "EHHfDXhUBPO6"
      }
    },
    {
      "cell_type": "markdown",
      "source": [
        "#### How Can We Visualize Dynamical Systems?"
      ],
      "metadata": {
        "id": "e3KDllxhXSuE"
      }
    },
    {
      "cell_type": "markdown",
      "source": [
        "In general, we can talk about a dynamical system in terms of time series and state-space. When we are looking at a time series, the x-axis is for time, and the y-axis is for the value of the state variables. In this case, each state variable has its own line. Taking a two dimensional system:\n",
        "\n",
        "\\begin{align*}\n",
        "\\color{purple}{\\frac{dS_1}{dt}} &= f(...)\\\\\n",
        "\\end{align*}\n",
        "\n",
        "\\begin{align*}\n",
        "\\color{purple}{\\frac{dS_2}{dt}} &= f(...)\\\\\n",
        "\\end{align*}\n",
        "\n",
        "We might get something like the following time-series: \n",
        "\n"
      ],
      "metadata": {
        "id": "LnkIisK3avv-"
      }
    },
    {
      "cell_type": "code",
      "source": [
        "r = te.loada('''\n",
        "    J1: -> S1; k1/(1+S2^n1) - k2*S1;\n",
        "    J2: -> S2; k3/(1+S1^n2) - k4*S2;\n",
        "    S1 = 4; S2 = -4;\n",
        "    k1 = 12; k3 = 12; k2 = 2; k4 = 2\n",
        "    n1 = 4; n2 = 4\n",
        "''')"
      ],
      "metadata": {
        "id": "YW0Fq53I6LkG"
      },
      "execution_count": null,
      "outputs": []
    },
    {
      "cell_type": "code",
      "source": [
        "m = r.simulate(0,2,500)\n",
        "r.plot(m)"
      ],
      "metadata": {
        "colab": {
          "base_uri": "https://localhost:8080/",
          "height": 266
        },
        "id": "uL387f2s7z6r",
        "outputId": "47fbad3c-dd29-414f-e858-fc5184fc8231"
      },
      "execution_count": null,
      "outputs": [
        {
          "output_type": "display_data",
          "data": {
            "text/plain": [
              "<Figure size 432x288 with 1 Axes>"
            ],
            "image/png": "[encoded data removed]"
          },
          "metadata": {}
        }
      ]
    },
    {
      "cell_type": "markdown",
      "source": [
        "Another option is to "
      ],
      "metadata": {
        "id": "rElb0YTE9gBE"
      }
    },
    {
      "cell_type": "code",
      "source": [],
      "metadata": {
        "id": "TjFSvWZP9eBj"
      },
      "execution_count": null,
      "outputs": []
    },
    {
      "cell_type": "markdown",
      "source": [
        "#### How Do We Get Trajectories Numerically?"
      ],
      "metadata": {
        "id": "eO7ChQQ1XqZs"
      }
    },
    {
      "cell_type": "markdown",
      "source": [
        "In general, there are two ground rules we have to keep in mind when talking about the time-evolution of a deterministic and continuous dynamical system:\n",
        "\n",
        "1. **Existence and Uniqueness Theorem:** For any initial value of the state-variables, there is a unique solution. This means trajectories cannot cross and a given value will always result in the same trajectory.\n",
        "2. **Smoothness of the Trajectory:** Trajectories in an ODE model work within a continuous state-space, and therefore should not show the jagged lines characteristic of discrete jumps.\n",
        "\n"
      ],
      "metadata": {
        "id": "H4rHnpWQa7BV"
      }
    },
    {
      "cell_type": "markdown",
      "source": [
        "##### Intuition Check! Do the following sketched time evolutions abide by the ground rules outlined above? "
      ],
      "metadata": {
        "id": "m-a3-_lhfvMo"
      }
    },
    {
      "cell_type": "markdown",
      "source": [
        "1. Time series for a population of predator and prey.\n",
        "\n",
        "2. Trajectories in state-space without crossing.\n",
        "\n",
        "3. Trajectories in state-space with crossing.\n",
        "\n",
        "4. Trajectories in state-space with convergence. \n",
        "\n",
        "5. Trajectories with sharp edges. "
      ],
      "metadata": {
        "id": "YnVplZFCgOMY"
      }
    },
    {
      "cell_type": "markdown",
      "source": [
        "### Section 1.1: Dynamics in One Dimension"
      ],
      "metadata": {
        "id": "dfgCeYpG3j8-"
      }
    },
    {
      "cell_type": "markdown",
      "source": [
        "### Section 1.2 Dynamics in Two Dimensions"
      ],
      "metadata": {
        "id": "_KqWV1pU39zB"
      }
    },
    {
      "cell_type": "markdown",
      "source": [],
      "metadata": {
        "id": "NfmGenk3jiUl"
      }
    },
    {
      "cell_type": "code",
      "execution_count": null,
      "metadata": {
        "id": "gMkXvhcfi6cl"
      },
      "outputs": [],
      "source": []
    }
  ]
}